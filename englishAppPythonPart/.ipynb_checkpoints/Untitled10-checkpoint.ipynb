{
 "cells": [
  {
   "cell_type": "code",
   "execution_count": 1,
   "metadata": {},
   "outputs": [],
   "source": [
    "import psycopg2"
   ]
  },
  {
   "cell_type": "code",
   "execution_count": 2,
   "metadata": {},
   "outputs": [],
   "source": [
    "conn = psycopg2.connect(dbname='users4', user='root', \n",
    "                        password='123', host='localhost')"
   ]
  },
  {
   "cell_type": "code",
   "execution_count": 3,
   "metadata": {},
   "outputs": [],
   "source": [
    "cursor = conn.cursor()"
   ]
  },
  {
   "cell_type": "code",
   "execution_count": 4,
   "metadata": {},
   "outputs": [
    {
     "ename": "ProgrammingError",
     "evalue": "no results to fetch",
     "output_type": "error",
     "traceback": [
      "\u001b[1;31m---------------------------------------------------------------------------\u001b[0m",
      "\u001b[1;31mProgrammingError\u001b[0m                          Traceback (most recent call last)",
      "\u001b[1;32m<ipython-input-4-d54ceaae8f0e>\u001b[0m in \u001b[0;36m<module>\u001b[1;34m\u001b[0m\n\u001b[1;32m----> 1\u001b[1;33m \u001b[0mrecords\u001b[0m \u001b[1;33m=\u001b[0m \u001b[0mcursor\u001b[0m\u001b[1;33m.\u001b[0m\u001b[0mfetchall\u001b[0m\u001b[1;33m(\u001b[0m\u001b[1;33m)\u001b[0m\u001b[1;33m\u001b[0m\u001b[1;33m\u001b[0m\u001b[0m\n\u001b[0m",
      "\u001b[1;31mProgrammingError\u001b[0m: no results to fetch"
     ]
    }
   ],
   "source": [
    "records = cursor.fetchall()"
   ]
  },
  {
   "cell_type": "code",
   "execution_count": 5,
   "metadata": {},
   "outputs": [],
   "source": [
    "cursor.execute('SELECT * FROM base_of_words LIMIT 10')"
   ]
  },
  {
   "cell_type": "code",
   "execution_count": 6,
   "metadata": {},
   "outputs": [],
   "source": [
    "records = cursor.fetchall()"
   ]
  },
  {
   "cell_type": "code",
   "execution_count": 7,
   "metadata": {},
   "outputs": [
    {
     "data": {
      "text/plain": [
       "[(1, '0', '0'),\n",
       " (2, 'fly', '«Ґв\\xa0вм'),\n",
       " (3, 'add', '¤®Ў\\xa0ўЁвм'),\n",
       " (4, 'sun', 'солнце'),\n",
       " (5, 'tiger', 'тигр')]"
      ]
     },
     "execution_count": 7,
     "metadata": {},
     "output_type": "execute_result"
    }
   ],
   "source": [
    "records"
   ]
  },
  {
   "cell_type": "code",
   "execution_count": 8,
   "metadata": {},
   "outputs": [],
   "source": [
    "from psycopg2.extras import DictCursor"
   ]
  },
  {
   "cell_type": "code",
   "execution_count": 9,
   "metadata": {},
   "outputs": [],
   "source": [
    "from contextlib import closing"
   ]
  },
  {
   "cell_type": "code",
   "execution_count": 10,
   "metadata": {},
   "outputs": [
    {
     "name": "stdout",
     "output_type": "stream",
     "text": [
      "(1, '0', '0')\n",
      "(2, 'fly', '«Ґв\\xa0вм')\n",
      "(3, 'add', '¤®Ў\\xa0ўЁвм')\n",
      "(4, 'sun', 'солнце')\n",
      "(5, 'tiger', 'тигр')\n"
     ]
    }
   ],
   "source": [
    "with closing(psycopg2.connect(dbname='users4', user='root', \n",
    "                        password='123', host='localhost')) as conn:\n",
    "    with conn.cursor() as cursor:\n",
    "        cursor.execute('SELECT * FROM base_of_words LIMIT 5')\n",
    "        for row in cursor:\n",
    "            print(row)"
   ]
  },
  {
   "cell_type": "code",
   "execution_count": 11,
   "metadata": {},
   "outputs": [],
   "source": [
    "from psycopg2 import sql"
   ]
  },
  {
   "cell_type": "code",
   "execution_count": 14,
   "metadata": {},
   "outputs": [],
   "source": [
    "with closing(psycopg2.connect(dbname='users4', user='root', \n",
    "                        password='123', host='localhost')) as conn:\n",
    "    with conn.cursor() as cursor:\n",
    "        conn.autocommit = True\n",
    "        values = [\n",
    "            ('4', 'sun', 'солнце'),\n",
    "            ('5', 'tiger', 'тигр')\n",
    "        ]\n",
    "        insert = sql.SQL('INSERT INTO base_of_words (id, word_eng, word_rus) VALUES {}').format(\n",
    "            sql.SQL(',').join(map(sql.Literal, values))\n",
    "        )\n",
    "        cursor.execute(insert)"
   ]
  },
  {
   "cell_type": "code",
   "execution_count": 12,
   "metadata": {},
   "outputs": [
    {
     "name": "stdout",
     "output_type": "stream",
     "text": [
      "fly Р»РµС‚Р°С‚СЊ\n",
      "\n",
      "pilot РїРёР»РѕС‚\n",
      "\n",
      "hospital Р±РѕР»СЊРЅРёС†Р°\n",
      "\n",
      "estate РїРѕРјРµСЃС‚СЊРµ, РёРјСѓС‰РµСЃС‚РІРѕ, СЃРѕСЃР»РѕРІРёРµ\n",
      "\n",
      "apartment РєРІР°СЂС‚РёСЂР°\n",
      "\n"
     ]
    }
   ],
   "source": [
    "with open(\"B.txt\", ) as file:\n",
    "    for i in range(5):\n",
    "        print(file.readline())"
   ]
  },
  {
   "cell_type": "code",
   "execution_count": null,
   "metadata": {},
   "outputs": [],
   "source": []
  }
 ],
 "metadata": {
  "kernelspec": {
   "display_name": "Python 3",
   "language": "python",
   "name": "python3"
  },
  "language_info": {
   "codemirror_mode": {
    "name": "ipython",
    "version": 3
   },
   "file_extension": ".py",
   "mimetype": "text/x-python",
   "name": "python",
   "nbconvert_exporter": "python",
   "pygments_lexer": "ipython3",
   "version": "3.8.5"
  }
 },
 "nbformat": 4,
 "nbformat_minor": 4
}
